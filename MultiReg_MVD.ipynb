{
  "cells": [
    {
      "cell_type": "markdown",
      "metadata": {
        "id": "view-in-github",
        "colab_type": "text"
      },
      "source": [
        "<a href=\"https://colab.research.google.com/github/melivadu/INTEGRA/blob/main/MultiReg_MVD.ipynb\" target=\"_parent\"><img src=\"https://colab.research.google.com/assets/colab-badge.svg\" alt=\"Open In Colab\"/></a>"
      ]
    },
    {
      "cell_type": "markdown",
      "id": "53556338",
      "metadata": {
        "id": "53556338"
      },
      "source": [
        "# 1. Información del dataset"
      ]
    },
    {
      "cell_type": "code",
      "source": [
        "from google.colab import drive\n",
        "drive.mount('/content/drive')"
      ],
      "metadata": {
        "id": "Y_0Pbw3IM_Ai",
        "outputId": "b2bf9366-abdd-4e86-9348-92e06873dc9f",
        "colab": {
          "base_uri": "https://localhost:8080/"
        }
      },
      "id": "Y_0Pbw3IM_Ai",
      "execution_count": null,
      "outputs": [
        {
          "output_type": "stream",
          "name": "stdout",
          "text": [
            "Mounted at /content/drive\n"
          ]
        }
      ]
    },
    {
      "cell_type": "code",
      "execution_count": null,
      "id": "09133c75",
      "metadata": {
        "id": "09133c75"
      },
      "outputs": [],
      "source": [
        "import pandas as pd\n",
        "import numpy as np\n",
        "import matplotlib.pyplot as plt\n",
        "import warnings\n",
        "warnings.filterwarnings(\"ignore\")"
      ]
    },
    {
      "cell_type": "code",
      "execution_count": null,
      "id": "3a040657",
      "metadata": {
        "id": "3a040657",
        "outputId": "95c89a0e-99c3-49dd-d64a-0809aca4db1a",
        "colab": {
          "base_uri": "https://localhost:8080/",
          "height": 206
        }
      },
      "outputs": [
        {
          "output_type": "execute_result",
          "data": {
            "text/plain": [
              "    Año  CE_Total  Pob_Total       T_PIB\n",
              "0  2006  40157.27   42170126  200.304411\n",
              "1  2007  41455.11   42658630  213.801312\n",
              "2  2008  45536.55   43134017  220.821363\n",
              "3  2009  46642.45   43608630  223.337951\n",
              "4  2010  48228.13   44086292  233.376230"
            ],
            "text/html": [
              "\n",
              "  <div id=\"df-f40398e8-a272-48d9-9f82-140cddedb365\">\n",
              "    <div class=\"colab-df-container\">\n",
              "      <div>\n",
              "<style scoped>\n",
              "    .dataframe tbody tr th:only-of-type {\n",
              "        vertical-align: middle;\n",
              "    }\n",
              "\n",
              "    .dataframe tbody tr th {\n",
              "        vertical-align: top;\n",
              "    }\n",
              "\n",
              "    .dataframe thead th {\n",
              "        text-align: right;\n",
              "    }\n",
              "</style>\n",
              "<table border=\"1\" class=\"dataframe\">\n",
              "  <thead>\n",
              "    <tr style=\"text-align: right;\">\n",
              "      <th></th>\n",
              "      <th>Año</th>\n",
              "      <th>CE_Total</th>\n",
              "      <th>Pob_Total</th>\n",
              "      <th>T_PIB</th>\n",
              "    </tr>\n",
              "  </thead>\n",
              "  <tbody>\n",
              "    <tr>\n",
              "      <th>0</th>\n",
              "      <td>2006</td>\n",
              "      <td>40157.27</td>\n",
              "      <td>42170126</td>\n",
              "      <td>200.304411</td>\n",
              "    </tr>\n",
              "    <tr>\n",
              "      <th>1</th>\n",
              "      <td>2007</td>\n",
              "      <td>41455.11</td>\n",
              "      <td>42658630</td>\n",
              "      <td>213.801312</td>\n",
              "    </tr>\n",
              "    <tr>\n",
              "      <th>2</th>\n",
              "      <td>2008</td>\n",
              "      <td>45536.55</td>\n",
              "      <td>43134017</td>\n",
              "      <td>220.821363</td>\n",
              "    </tr>\n",
              "    <tr>\n",
              "      <th>3</th>\n",
              "      <td>2009</td>\n",
              "      <td>46642.45</td>\n",
              "      <td>43608630</td>\n",
              "      <td>223.337951</td>\n",
              "    </tr>\n",
              "    <tr>\n",
              "      <th>4</th>\n",
              "      <td>2010</td>\n",
              "      <td>48228.13</td>\n",
              "      <td>44086292</td>\n",
              "      <td>233.376230</td>\n",
              "    </tr>\n",
              "  </tbody>\n",
              "</table>\n",
              "</div>\n",
              "      <button class=\"colab-df-convert\" onclick=\"convertToInteractive('df-f40398e8-a272-48d9-9f82-140cddedb365')\"\n",
              "              title=\"Convert this dataframe to an interactive table.\"\n",
              "              style=\"display:none;\">\n",
              "        \n",
              "  <svg xmlns=\"http://www.w3.org/2000/svg\" height=\"24px\"viewBox=\"0 0 24 24\"\n",
              "       width=\"24px\">\n",
              "    <path d=\"M0 0h24v24H0V0z\" fill=\"none\"/>\n",
              "    <path d=\"M18.56 5.44l.94 2.06.94-2.06 2.06-.94-2.06-.94-.94-2.06-.94 2.06-2.06.94zm-11 1L8.5 8.5l.94-2.06 2.06-.94-2.06-.94L8.5 2.5l-.94 2.06-2.06.94zm10 10l.94 2.06.94-2.06 2.06-.94-2.06-.94-.94-2.06-.94 2.06-2.06.94z\"/><path d=\"M17.41 7.96l-1.37-1.37c-.4-.4-.92-.59-1.43-.59-.52 0-1.04.2-1.43.59L10.3 9.45l-7.72 7.72c-.78.78-.78 2.05 0 2.83L4 21.41c.39.39.9.59 1.41.59.51 0 1.02-.2 1.41-.59l7.78-7.78 2.81-2.81c.8-.78.8-2.07 0-2.86zM5.41 20L4 18.59l7.72-7.72 1.47 1.35L5.41 20z\"/>\n",
              "  </svg>\n",
              "      </button>\n",
              "      \n",
              "  <style>\n",
              "    .colab-df-container {\n",
              "      display:flex;\n",
              "      flex-wrap:wrap;\n",
              "      gap: 12px;\n",
              "    }\n",
              "\n",
              "    .colab-df-convert {\n",
              "      background-color: #E8F0FE;\n",
              "      border: none;\n",
              "      border-radius: 50%;\n",
              "      cursor: pointer;\n",
              "      display: none;\n",
              "      fill: #1967D2;\n",
              "      height: 32px;\n",
              "      padding: 0 0 0 0;\n",
              "      width: 32px;\n",
              "    }\n",
              "\n",
              "    .colab-df-convert:hover {\n",
              "      background-color: #E2EBFA;\n",
              "      box-shadow: 0px 1px 2px rgba(60, 64, 67, 0.3), 0px 1px 3px 1px rgba(60, 64, 67, 0.15);\n",
              "      fill: #174EA6;\n",
              "    }\n",
              "\n",
              "    [theme=dark] .colab-df-convert {\n",
              "      background-color: #3B4455;\n",
              "      fill: #D2E3FC;\n",
              "    }\n",
              "\n",
              "    [theme=dark] .colab-df-convert:hover {\n",
              "      background-color: #434B5C;\n",
              "      box-shadow: 0px 1px 3px 1px rgba(0, 0, 0, 0.15);\n",
              "      filter: drop-shadow(0px 1px 2px rgba(0, 0, 0, 0.3));\n",
              "      fill: #FFFFFF;\n",
              "    }\n",
              "  </style>\n",
              "\n",
              "      <script>\n",
              "        const buttonEl =\n",
              "          document.querySelector('#df-f40398e8-a272-48d9-9f82-140cddedb365 button.colab-df-convert');\n",
              "        buttonEl.style.display =\n",
              "          google.colab.kernel.accessAllowed ? 'block' : 'none';\n",
              "\n",
              "        async function convertToInteractive(key) {\n",
              "          const element = document.querySelector('#df-f40398e8-a272-48d9-9f82-140cddedb365');\n",
              "          const dataTable =\n",
              "            await google.colab.kernel.invokeFunction('convertToInteractive',\n",
              "                                                     [key], {});\n",
              "          if (!dataTable) return;\n",
              "\n",
              "          const docLinkHtml = 'Like what you see? Visit the ' +\n",
              "            '<a target=\"_blank\" href=https://colab.research.google.com/notebooks/data_table.ipynb>data table notebook</a>'\n",
              "            + ' to learn more about interactive tables.';\n",
              "          element.innerHTML = '';\n",
              "          dataTable['output_type'] = 'display_data';\n",
              "          await google.colab.output.renderOutput(dataTable, element);\n",
              "          const docLink = document.createElement('div');\n",
              "          docLink.innerHTML = docLinkHtml;\n",
              "          element.appendChild(docLink);\n",
              "        }\n",
              "      </script>\n",
              "    </div>\n",
              "  </div>\n",
              "  "
            ]
          },
          "metadata": {},
          "execution_count": 6
        }
      ],
      "source": [
        "datos = pd.read_excel('/content/drive/MyDrive/GENERGETICA/PROYECTOS/Proyecto_INTEGRA2023_Meli/Colaboratory/Regresion_Proyecciones/datos.xlsx', sheet_name='Proyección 1')\n",
        "datos.head()"
      ]
    },
    {
      "cell_type": "code",
      "execution_count": null,
      "id": "7eac31a0",
      "metadata": {
        "id": "7eac31a0",
        "outputId": "ab8d613d-65d2-410b-cd9d-67eb63930078",
        "colab": {
          "base_uri": "https://localhost:8080/",
          "height": 300
        }
      },
      "outputs": [
        {
          "output_type": "execute_result",
          "data": {
            "text/plain": [
              "               Año      CE_Total     Pob_Total       T_PIB\n",
              "count    15.000000     15.000000  1.500000e+01   15.000000\n",
              "mean   2013.000000  52559.972501  4.567356e+07  265.802666\n",
              "std       4.472136   7194.085682  2.446675e+06   39.847657\n",
              "min    2006.000000  40157.270000  4.217013e+07  200.304411\n",
              "25%    2009.500000  47435.290000  4.384746e+07  228.357091\n",
              "50%    2013.000000  53525.300000  4.543494e+07  272.671892\n",
              "75%    2016.500000  57806.849700  4.712466e+07  299.511976\n",
              "max    2020.000000  63697.701100  5.037242e+07  321.556325"
            ],
            "text/html": [
              "\n",
              "  <div id=\"df-337e9c20-704e-44bf-a9ac-37fc11f18fc8\">\n",
              "    <div class=\"colab-df-container\">\n",
              "      <div>\n",
              "<style scoped>\n",
              "    .dataframe tbody tr th:only-of-type {\n",
              "        vertical-align: middle;\n",
              "    }\n",
              "\n",
              "    .dataframe tbody tr th {\n",
              "        vertical-align: top;\n",
              "    }\n",
              "\n",
              "    .dataframe thead th {\n",
              "        text-align: right;\n",
              "    }\n",
              "</style>\n",
              "<table border=\"1\" class=\"dataframe\">\n",
              "  <thead>\n",
              "    <tr style=\"text-align: right;\">\n",
              "      <th></th>\n",
              "      <th>Año</th>\n",
              "      <th>CE_Total</th>\n",
              "      <th>Pob_Total</th>\n",
              "      <th>T_PIB</th>\n",
              "    </tr>\n",
              "  </thead>\n",
              "  <tbody>\n",
              "    <tr>\n",
              "      <th>count</th>\n",
              "      <td>15.000000</td>\n",
              "      <td>15.000000</td>\n",
              "      <td>1.500000e+01</td>\n",
              "      <td>15.000000</td>\n",
              "    </tr>\n",
              "    <tr>\n",
              "      <th>mean</th>\n",
              "      <td>2013.000000</td>\n",
              "      <td>52559.972501</td>\n",
              "      <td>4.567356e+07</td>\n",
              "      <td>265.802666</td>\n",
              "    </tr>\n",
              "    <tr>\n",
              "      <th>std</th>\n",
              "      <td>4.472136</td>\n",
              "      <td>7194.085682</td>\n",
              "      <td>2.446675e+06</td>\n",
              "      <td>39.847657</td>\n",
              "    </tr>\n",
              "    <tr>\n",
              "      <th>min</th>\n",
              "      <td>2006.000000</td>\n",
              "      <td>40157.270000</td>\n",
              "      <td>4.217013e+07</td>\n",
              "      <td>200.304411</td>\n",
              "    </tr>\n",
              "    <tr>\n",
              "      <th>25%</th>\n",
              "      <td>2009.500000</td>\n",
              "      <td>47435.290000</td>\n",
              "      <td>4.384746e+07</td>\n",
              "      <td>228.357091</td>\n",
              "    </tr>\n",
              "    <tr>\n",
              "      <th>50%</th>\n",
              "      <td>2013.000000</td>\n",
              "      <td>53525.300000</td>\n",
              "      <td>4.543494e+07</td>\n",
              "      <td>272.671892</td>\n",
              "    </tr>\n",
              "    <tr>\n",
              "      <th>75%</th>\n",
              "      <td>2016.500000</td>\n",
              "      <td>57806.849700</td>\n",
              "      <td>4.712466e+07</td>\n",
              "      <td>299.511976</td>\n",
              "    </tr>\n",
              "    <tr>\n",
              "      <th>max</th>\n",
              "      <td>2020.000000</td>\n",
              "      <td>63697.701100</td>\n",
              "      <td>5.037242e+07</td>\n",
              "      <td>321.556325</td>\n",
              "    </tr>\n",
              "  </tbody>\n",
              "</table>\n",
              "</div>\n",
              "      <button class=\"colab-df-convert\" onclick=\"convertToInteractive('df-337e9c20-704e-44bf-a9ac-37fc11f18fc8')\"\n",
              "              title=\"Convert this dataframe to an interactive table.\"\n",
              "              style=\"display:none;\">\n",
              "        \n",
              "  <svg xmlns=\"http://www.w3.org/2000/svg\" height=\"24px\"viewBox=\"0 0 24 24\"\n",
              "       width=\"24px\">\n",
              "    <path d=\"M0 0h24v24H0V0z\" fill=\"none\"/>\n",
              "    <path d=\"M18.56 5.44l.94 2.06.94-2.06 2.06-.94-2.06-.94-.94-2.06-.94 2.06-2.06.94zm-11 1L8.5 8.5l.94-2.06 2.06-.94-2.06-.94L8.5 2.5l-.94 2.06-2.06.94zm10 10l.94 2.06.94-2.06 2.06-.94-2.06-.94-.94-2.06-.94 2.06-2.06.94z\"/><path d=\"M17.41 7.96l-1.37-1.37c-.4-.4-.92-.59-1.43-.59-.52 0-1.04.2-1.43.59L10.3 9.45l-7.72 7.72c-.78.78-.78 2.05 0 2.83L4 21.41c.39.39.9.59 1.41.59.51 0 1.02-.2 1.41-.59l7.78-7.78 2.81-2.81c.8-.78.8-2.07 0-2.86zM5.41 20L4 18.59l7.72-7.72 1.47 1.35L5.41 20z\"/>\n",
              "  </svg>\n",
              "      </button>\n",
              "      \n",
              "  <style>\n",
              "    .colab-df-container {\n",
              "      display:flex;\n",
              "      flex-wrap:wrap;\n",
              "      gap: 12px;\n",
              "    }\n",
              "\n",
              "    .colab-df-convert {\n",
              "      background-color: #E8F0FE;\n",
              "      border: none;\n",
              "      border-radius: 50%;\n",
              "      cursor: pointer;\n",
              "      display: none;\n",
              "      fill: #1967D2;\n",
              "      height: 32px;\n",
              "      padding: 0 0 0 0;\n",
              "      width: 32px;\n",
              "    }\n",
              "\n",
              "    .colab-df-convert:hover {\n",
              "      background-color: #E2EBFA;\n",
              "      box-shadow: 0px 1px 2px rgba(60, 64, 67, 0.3), 0px 1px 3px 1px rgba(60, 64, 67, 0.15);\n",
              "      fill: #174EA6;\n",
              "    }\n",
              "\n",
              "    [theme=dark] .colab-df-convert {\n",
              "      background-color: #3B4455;\n",
              "      fill: #D2E3FC;\n",
              "    }\n",
              "\n",
              "    [theme=dark] .colab-df-convert:hover {\n",
              "      background-color: #434B5C;\n",
              "      box-shadow: 0px 1px 3px 1px rgba(0, 0, 0, 0.15);\n",
              "      filter: drop-shadow(0px 1px 2px rgba(0, 0, 0, 0.3));\n",
              "      fill: #FFFFFF;\n",
              "    }\n",
              "  </style>\n",
              "\n",
              "      <script>\n",
              "        const buttonEl =\n",
              "          document.querySelector('#df-337e9c20-704e-44bf-a9ac-37fc11f18fc8 button.colab-df-convert');\n",
              "        buttonEl.style.display =\n",
              "          google.colab.kernel.accessAllowed ? 'block' : 'none';\n",
              "\n",
              "        async function convertToInteractive(key) {\n",
              "          const element = document.querySelector('#df-337e9c20-704e-44bf-a9ac-37fc11f18fc8');\n",
              "          const dataTable =\n",
              "            await google.colab.kernel.invokeFunction('convertToInteractive',\n",
              "                                                     [key], {});\n",
              "          if (!dataTable) return;\n",
              "\n",
              "          const docLinkHtml = 'Like what you see? Visit the ' +\n",
              "            '<a target=\"_blank\" href=https://colab.research.google.com/notebooks/data_table.ipynb>data table notebook</a>'\n",
              "            + ' to learn more about interactive tables.';\n",
              "          element.innerHTML = '';\n",
              "          dataTable['output_type'] = 'display_data';\n",
              "          await google.colab.output.renderOutput(dataTable, element);\n",
              "          const docLink = document.createElement('div');\n",
              "          docLink.innerHTML = docLinkHtml;\n",
              "          element.appendChild(docLink);\n",
              "        }\n",
              "      </script>\n",
              "    </div>\n",
              "  </div>\n",
              "  "
            ]
          },
          "metadata": {},
          "execution_count": 7
        }
      ],
      "source": [
        "datosAj = datos.iloc[:15]\n",
        "datosAj.describe()"
      ]
    },
    {
      "cell_type": "markdown",
      "id": "4e487b4d",
      "metadata": {
        "id": "4e487b4d"
      },
      "source": [
        "# 2. Análisis entre variables"
      ]
    },
    {
      "cell_type": "code",
      "execution_count": null,
      "id": "396a54d8",
      "metadata": {
        "id": "396a54d8",
        "outputId": "f64cbf00-07ce-4fad-d4bb-e59ce970b4db",
        "colab": {
          "base_uri": "https://localhost:8080/",
          "height": 280
        }
      },
      "outputs": [
        {
          "output_type": "display_data",
          "data": {
            "text/plain": [
              "<Figure size 720x288 with 2 Axes>"
            ],
            "image/png": "[encoded data removed]"
          },
          "metadata": {
            "needs_background": "light"
          }
        }
      ],
      "source": [
        "fig, ax = plt.subplots(1,2, figsize=(10,4))\n",
        "ax[0].scatter(datosAj['Pob_Total'], datosAj['CE_Total'])\n",
        "ax[0].set_xlabel('Pob_Total')\n",
        "ax[0].set_ylabel('CE_Total');\n",
        "ax[1].scatter(datosAj['T_PIB'], datosAj['CE_Total'])\n",
        "ax[1].set_xlabel('T_PIB')\n",
        "ax[1].set_ylabel('CE_Total');"
      ]
    },
    {
      "cell_type": "markdown",
      "id": "d0e1039f",
      "metadata": {
        "id": "d0e1039f"
      },
      "source": [
        "Correlación"
      ]
    },
    {
      "cell_type": "code",
      "execution_count": null,
      "id": "05a27f3a",
      "metadata": {
        "id": "05a27f3a",
        "outputId": "7ffe79d0-28df-4ab9-a589-2b4021d6c6f7",
        "colab": {
          "base_uri": "https://localhost:8080/",
          "height": 143
        }
      },
      "outputs": [
        {
          "output_type": "execute_result",
          "data": {
            "text/plain": [
              "           CE_Total  Pob_Total     T_PIB\n",
              "CE_Total   1.000000   0.965414  0.979379\n",
              "Pob_Total  0.965414   1.000000  0.930777\n",
              "T_PIB      0.979379   0.930777  1.000000"
            ],
            "text/html": [
              "\n",
              "  <div id=\"df-8b7f83bc-9bc6-4a36-be6a-6a9b677f46c0\">\n",
              "    <div class=\"colab-df-container\">\n",
              "      <div>\n",
              "<style scoped>\n",
              "    .dataframe tbody tr th:only-of-type {\n",
              "        vertical-align: middle;\n",
              "    }\n",
              "\n",
              "    .dataframe tbody tr th {\n",
              "        vertical-align: top;\n",
              "    }\n",
              "\n",
              "    .dataframe thead th {\n",
              "        text-align: right;\n",
              "    }\n",
              "</style>\n",
              "<table border=\"1\" class=\"dataframe\">\n",
              "  <thead>\n",
              "    <tr style=\"text-align: right;\">\n",
              "      <th></th>\n",
              "      <th>CE_Total</th>\n",
              "      <th>Pob_Total</th>\n",
              "      <th>T_PIB</th>\n",
              "    </tr>\n",
              "  </thead>\n",
              "  <tbody>\n",
              "    <tr>\n",
              "      <th>CE_Total</th>\n",
              "      <td>1.000000</td>\n",
              "      <td>0.965414</td>\n",
              "      <td>0.979379</td>\n",
              "    </tr>\n",
              "    <tr>\n",
              "      <th>Pob_Total</th>\n",
              "      <td>0.965414</td>\n",
              "      <td>1.000000</td>\n",
              "      <td>0.930777</td>\n",
              "    </tr>\n",
              "    <tr>\n",
              "      <th>T_PIB</th>\n",
              "      <td>0.979379</td>\n",
              "      <td>0.930777</td>\n",
              "      <td>1.000000</td>\n",
              "    </tr>\n",
              "  </tbody>\n",
              "</table>\n",
              "</div>\n",
              "      <button class=\"colab-df-convert\" onclick=\"convertToInteractive('df-8b7f83bc-9bc6-4a36-be6a-6a9b677f46c0')\"\n",
              "              title=\"Convert this dataframe to an interactive table.\"\n",
              "              style=\"display:none;\">\n",
              "        \n",
              "  <svg xmlns=\"http://www.w3.org/2000/svg\" height=\"24px\"viewBox=\"0 0 24 24\"\n",
              "       width=\"24px\">\n",
              "    <path d=\"M0 0h24v24H0V0z\" fill=\"none\"/>\n",
              "    <path d=\"M18.56 5.44l.94 2.06.94-2.06 2.06-.94-2.06-.94-.94-2.06-.94 2.06-2.06.94zm-11 1L8.5 8.5l.94-2.06 2.06-.94-2.06-.94L8.5 2.5l-.94 2.06-2.06.94zm10 10l.94 2.06.94-2.06 2.06-.94-2.06-.94-.94-2.06-.94 2.06-2.06.94z\"/><path d=\"M17.41 7.96l-1.37-1.37c-.4-.4-.92-.59-1.43-.59-.52 0-1.04.2-1.43.59L10.3 9.45l-7.72 7.72c-.78.78-.78 2.05 0 2.83L4 21.41c.39.39.9.59 1.41.59.51 0 1.02-.2 1.41-.59l7.78-7.78 2.81-2.81c.8-.78.8-2.07 0-2.86zM5.41 20L4 18.59l7.72-7.72 1.47 1.35L5.41 20z\"/>\n",
              "  </svg>\n",
              "      </button>\n",
              "      \n",
              "  <style>\n",
              "    .colab-df-container {\n",
              "      display:flex;\n",
              "      flex-wrap:wrap;\n",
              "      gap: 12px;\n",
              "    }\n",
              "\n",
              "    .colab-df-convert {\n",
              "      background-color: #E8F0FE;\n",
              "      border: none;\n",
              "      border-radius: 50%;\n",
              "      cursor: pointer;\n",
              "      display: none;\n",
              "      fill: #1967D2;\n",
              "      height: 32px;\n",
              "      padding: 0 0 0 0;\n",
              "      width: 32px;\n",
              "    }\n",
              "\n",
              "    .colab-df-convert:hover {\n",
              "      background-color: #E2EBFA;\n",
              "      box-shadow: 0px 1px 2px rgba(60, 64, 67, 0.3), 0px 1px 3px 1px rgba(60, 64, 67, 0.15);\n",
              "      fill: #174EA6;\n",
              "    }\n",
              "\n",
              "    [theme=dark] .colab-df-convert {\n",
              "      background-color: #3B4455;\n",
              "      fill: #D2E3FC;\n",
              "    }\n",
              "\n",
              "    [theme=dark] .colab-df-convert:hover {\n",
              "      background-color: #434B5C;\n",
              "      box-shadow: 0px 1px 3px 1px rgba(0, 0, 0, 0.15);\n",
              "      filter: drop-shadow(0px 1px 2px rgba(0, 0, 0, 0.3));\n",
              "      fill: #FFFFFF;\n",
              "    }\n",
              "  </style>\n",
              "\n",
              "      <script>\n",
              "        const buttonEl =\n",
              "          document.querySelector('#df-8b7f83bc-9bc6-4a36-be6a-6a9b677f46c0 button.colab-df-convert');\n",
              "        buttonEl.style.display =\n",
              "          google.colab.kernel.accessAllowed ? 'block' : 'none';\n",
              "\n",
              "        async function convertToInteractive(key) {\n",
              "          const element = document.querySelector('#df-8b7f83bc-9bc6-4a36-be6a-6a9b677f46c0');\n",
              "          const dataTable =\n",
              "            await google.colab.kernel.invokeFunction('convertToInteractive',\n",
              "                                                     [key], {});\n",
              "          if (!dataTable) return;\n",
              "\n",
              "          const docLinkHtml = 'Like what you see? Visit the ' +\n",
              "            '<a target=\"_blank\" href=https://colab.research.google.com/notebooks/data_table.ipynb>data table notebook</a>'\n",
              "            + ' to learn more about interactive tables.';\n",
              "          element.innerHTML = '';\n",
              "          dataTable['output_type'] = 'display_data';\n",
              "          await google.colab.output.renderOutput(dataTable, element);\n",
              "          const docLink = document.createElement('div');\n",
              "          docLink.innerHTML = docLinkHtml;\n",
              "          element.appendChild(docLink);\n",
              "        }\n",
              "      </script>\n",
              "    </div>\n",
              "  </div>\n",
              "  "
            ]
          },
          "metadata": {},
          "execution_count": 9
        }
      ],
      "source": [
        "datosCorr = datosAj[['CE_Total','Pob_Total','T_PIB']].corr()\n",
        "datosCorr"
      ]
    },
    {
      "cell_type": "markdown",
      "id": "c793f07c",
      "metadata": {
        "id": "c793f07c"
      },
      "source": [
        "# 3. Regresión con múltiples modelos"
      ]
    },
    {
      "cell_type": "code",
      "execution_count": null,
      "id": "8e6e2c28",
      "metadata": {
        "id": "8e6e2c28"
      },
      "outputs": [],
      "source": [
        "import statsmodels.api as sm\n",
        "\n",
        "from sklearn.linear_model import LinearRegression\n",
        "from sklearn.linear_model import Lasso\n",
        "from sklearn.linear_model import Ridge\n",
        "from sklearn.linear_model import ElasticNet\n",
        "from sklearn.tree import DecisionTreeRegressor\n",
        "from sklearn.linear_model import Lars\n",
        "\n",
        "from sklearn.metrics import r2_score\n",
        "from sklearn.metrics import mean_absolute_percentage_error\n",
        "from sklearn.model_selection import GridSearchCV"
      ]
    },
    {
      "cell_type": "code",
      "execution_count": null,
      "id": "c30a972f",
      "metadata": {
        "id": "c30a972f"
      },
      "outputs": [],
      "source": [
        "# Datos de ajuste\n",
        "X = datosAj[['Pob_Total','T_PIB']]\n",
        "Y = datosAj['CE_Total']"
      ]
    },
    {
      "cell_type": "markdown",
      "id": "d54efc63",
      "metadata": {
        "id": "d54efc63"
      },
      "source": [
        "1. Linear regression"
      ]
    },
    {
      "cell_type": "code",
      "execution_count": null,
      "id": "fe7faf90",
      "metadata": {
        "id": "fe7faf90",
        "outputId": "7d8c55af-a8cd-43dd-c406-0cf3693b81d2"
      },
      "outputs": [
        {
          "name": "stdout",
          "output_type": "stream",
          "text": [
            "Fit score_R2:  0.9808650161995528\n",
            "Fit score_MAPE:  0.015614364208045768\n"
          ]
        }
      ],
      "source": [
        "linearMod = LinearRegression(normalize=True).fit(X, Y)\n",
        "y_aj = linearMod.predict(X)\n",
        "print('Fit score_R2: ', r2_score(Y, y_aj))\n",
        "print('Fit score_MAPE: ', mean_absolute_percentage_error(Y, y_aj))"
      ]
    },
    {
      "cell_type": "code",
      "execution_count": null,
      "id": "2ff588b0",
      "metadata": {
        "id": "2ff588b0",
        "outputId": "e5c64eb9-0b5c-4833-f854-af87735bf85f"
      },
      "outputs": [
        {
          "data": {
            "image/png": "[encoded data removed]",
            "text/plain": [
              "<Figure size 576x288 with 1 Axes>"
            ]
          },
          "metadata": {
            "needs_background": "light"
          },
          "output_type": "display_data"
        }
      ],
      "source": [
        "fig, ax = plt.subplots(figsize=(8,4))\n",
        "plt.plot(datosAj['Año'], Y, label='Datos reales')\n",
        "plt.plot(datosAj['Año'], y_aj, label='Ajuste')\n",
        "plt.xlabel('Año')\n",
        "plt.ylabel('CE_Total')\n",
        "plt.title('Ajuste');\n",
        "ax.legend();\n",
        "plt.grid(True)"
      ]
    },
    {
      "cell_type": "markdown",
      "id": "b08e1fac",
      "metadata": {
        "id": "b08e1fac"
      },
      "source": [
        "*2. Lasso regression*"
      ]
    },
    {
      "cell_type": "code",
      "execution_count": null,
      "id": "6bfa480a",
      "metadata": {
        "id": "6bfa480a",
        "outputId": "a1916fd4-f2e8-47fe-f05d-964fb7258c4f"
      },
      "outputs": [
        {
          "name": "stdout",
          "output_type": "stream",
          "text": [
            "Mejor parámetro = {'alpha': 497.7023564332114}\n"
          ]
        }
      ],
      "source": [
        "parameters = {'alpha': np.logspace(2, 3, 100)}\n",
        "grid_search = GridSearchCV(Lasso(), parameters, cv=3, return_train_score=False)\n",
        "grid_search.fit(X, Y);\n",
        "print(f\"Mejor parámetro = {grid_search.best_params_}\")"
      ]
    },
    {
      "cell_type": "code",
      "execution_count": null,
      "id": "b346d27d",
      "metadata": {
        "id": "b346d27d",
        "outputId": "ae7f4a41-9fb2-4fbd-bcb7-de61c824ccaf"
      },
      "outputs": [
        {
          "name": "stdout",
          "output_type": "stream",
          "text": [
            "Fit score_R2:  0.9808391260027697\n",
            "Fit score_MAPE:  0.015781363625249588\n"
          ]
        }
      ],
      "source": [
        "lassoMod = Lasso(alpha=grid_search.best_params_['alpha']).fit(X, Y)\n",
        "y_aj = lassoMod.predict(X)\n",
        "print('Fit score_R2: ', r2_score(Y, y_aj))\n",
        "print('Fit score_MAPE: ', mean_absolute_percentage_error(Y, y_aj))"
      ]
    },
    {
      "cell_type": "code",
      "execution_count": null,
      "id": "a106d61a",
      "metadata": {
        "id": "a106d61a",
        "outputId": "7b666ff6-c523-4b2f-e9f8-1efabdbca704"
      },
      "outputs": [
        {
          "data": {
            "image/png": "[encoded data removed]",
            "text/plain": [
              "<Figure size 576x288 with 1 Axes>"
            ]
          },
          "metadata": {
            "needs_background": "light"
          },
          "output_type": "display_data"
        }
      ],
      "source": [
        "fig, ax = plt.subplots(figsize=(8,4))\n",
        "plt.plot(datosAj['Año'], Y, label='Datos reales')\n",
        "plt.plot(datosAj['Año'], y_aj, label='Ajuste')\n",
        "plt.xlabel('Año')\n",
        "plt.ylabel('CE_Total')\n",
        "plt.title('Ajuste');\n",
        "ax.legend();\n",
        "plt.grid(True)"
      ]
    },
    {
      "cell_type": "markdown",
      "id": "957436ed",
      "metadata": {
        "id": "957436ed"
      },
      "source": [
        "3. Ridge regression"
      ]
    },
    {
      "cell_type": "code",
      "execution_count": null,
      "id": "e6843c51",
      "metadata": {
        "id": "e6843c51",
        "outputId": "b5d80f59-e41f-4e11-acf7-3c0555de64dc"
      },
      "outputs": [
        {
          "name": "stdout",
          "output_type": "stream",
          "text": [
            "Mejor parámetro = {'alpha': 0.26560877829466867}\n"
          ]
        }
      ],
      "source": [
        "parameters = {'alpha': np.logspace(-1, 0, 100)}\n",
        "grid_search = GridSearchCV(Ridge(normalize=True), parameters, cv=3, return_train_score=False)\n",
        "grid_search.fit(X, Y);\n",
        "print(f\"Mejor parámetro = {grid_search.best_params_}\")"
      ]
    },
    {
      "cell_type": "code",
      "execution_count": null,
      "id": "9da6566b",
      "metadata": {
        "id": "9da6566b",
        "outputId": "e18dfa46-596b-48f0-bb06-084bacc0bc54"
      },
      "outputs": [
        {
          "name": "stdout",
          "output_type": "stream",
          "text": [
            "Fit score_R2:  0.9656549784347708\n",
            "Fit score_MAPE:  0.019593364190873215\n"
          ]
        }
      ],
      "source": [
        "ridgeMod = Ridge(alpha=grid_search.best_params_['alpha'], normalize=True).fit(X, Y)\n",
        "y_aj = ridgeMod.predict(X)\n",
        "print('Fit score_R2: ', r2_score(Y, y_aj))\n",
        "print('Fit score_MAPE: ', mean_absolute_percentage_error(Y, y_aj))"
      ]
    },
    {
      "cell_type": "code",
      "execution_count": null,
      "id": "36f30a93",
      "metadata": {
        "id": "36f30a93",
        "outputId": "30e0b652-2523-43af-baa2-1b6f84efbf50"
      },
      "outputs": [
        {
          "data": {
            "image/png": "[encoded data removed]",
            "text/plain": [
              "<Figure size 576x288 with 1 Axes>"
            ]
          },
          "metadata": {
            "needs_background": "light"
          },
          "output_type": "display_data"
        }
      ],
      "source": [
        "fig, ax = plt.subplots(figsize=(8,4))\n",
        "plt.plot(datosAj['Año'], Y, label='Datos reales')\n",
        "plt.plot(datosAj['Año'], y_aj, label='Ajuste')\n",
        "plt.xlabel('Año')\n",
        "plt.ylabel('CE_Total')\n",
        "plt.title('Ajuste');\n",
        "ax.legend();\n",
        "plt.grid(True)"
      ]
    },
    {
      "cell_type": "markdown",
      "id": "10df1d31",
      "metadata": {
        "id": "10df1d31"
      },
      "source": [
        "4. ElasticNet regression"
      ]
    },
    {
      "cell_type": "code",
      "execution_count": null,
      "id": "af1b43b1",
      "metadata": {
        "id": "af1b43b1",
        "outputId": "df7dd43e-b9be-4100-8292-ebc162e671de"
      },
      "outputs": [
        {
          "name": "stdout",
          "output_type": "stream",
          "text": [
            "Mejores parámetros = {'alpha': 509.413801481638, 'l1_ratio': 0.9770099572992254}\n"
          ]
        }
      ],
      "source": [
        "parameters = {'alpha': np.logspace(2, 3, 100), 'l1_ratio': np.logspace(-1, 1, 100)}\n",
        "grid_search = GridSearchCV(ElasticNet(normalize=False, max_iter= 100000, warm_start= True), parameters, cv=3, return_train_score=False)\n",
        "grid_search.fit(X, Y);\n",
        "print(f\"Mejores parámetros = {grid_search.best_params_}\")"
      ]
    },
    {
      "cell_type": "code",
      "execution_count": null,
      "id": "6512f53e",
      "metadata": {
        "id": "6512f53e",
        "outputId": "3561daab-1ff2-4103-ea1d-ae32b8b0c623"
      },
      "outputs": [
        {
          "name": "stdout",
          "output_type": "stream",
          "text": [
            "Fit score_R2:  0.9805711822799736\n",
            "Fit score_MAPE:  0.016242225815868237\n"
          ]
        }
      ],
      "source": [
        "elasticMod = ElasticNet(alpha=grid_search.best_params_['alpha'], l1_ratio=grid_search.best_params_['l1_ratio'], \n",
        "                      normalize=False, max_iter= 100000, warm_start= True).fit(X, Y)\n",
        "y_aj = elasticMod.predict(X)\n",
        "print('Fit score_R2: ', r2_score(Y, y_aj))\n",
        "print('Fit score_MAPE: ', mean_absolute_percentage_error(Y, y_aj))"
      ]
    },
    {
      "cell_type": "code",
      "execution_count": null,
      "id": "a66b65b9",
      "metadata": {
        "id": "a66b65b9",
        "outputId": "b3728cb2-1665-46c9-98a3-5e9b4c4d7e5a"
      },
      "outputs": [
        {
          "data": {
            "image/png": "[encoded data removed]",
            "text/plain": [
              "<Figure size 576x288 with 1 Axes>"
            ]
          },
          "metadata": {
            "needs_background": "light"
          },
          "output_type": "display_data"
        }
      ],
      "source": [
        "fig, ax = plt.subplots(figsize=(8,4))\n",
        "plt.plot(datosAj['Año'], Y, label='Datos reales')\n",
        "plt.plot(datosAj['Año'], y_aj, label='Ajuste')\n",
        "plt.xlabel('Año')\n",
        "plt.ylabel('CE_Total')\n",
        "plt.title('Ajuste');\n",
        "ax.legend();\n",
        "plt.grid(True)"
      ]
    },
    {
      "cell_type": "markdown",
      "id": "34d4a412",
      "metadata": {
        "id": "34d4a412"
      },
      "source": [
        "5. Lars Regression"
      ]
    },
    {
      "cell_type": "code",
      "execution_count": null,
      "id": "04cec5c9",
      "metadata": {
        "id": "04cec5c9",
        "outputId": "f52d126c-a338-40d3-efae-dc0a9ff5e5fb"
      },
      "outputs": [
        {
          "name": "stdout",
          "output_type": "stream",
          "text": [
            "Mejor parámetro = {'n_nonzero_coefs': 2}\n"
          ]
        }
      ],
      "source": [
        "parameters = {'n_nonzero_coefs': [1, 2, 3, 4, 5, 6, 7, 8]}\n",
        "grid_search = GridSearchCV(Lars(), parameters, cv=3, return_train_score=False)\n",
        "grid_search.fit(X, Y);\n",
        "print(f\"Mejor parámetro = {grid_search.best_params_}\")"
      ]
    },
    {
      "cell_type": "code",
      "execution_count": null,
      "id": "89fa96da",
      "metadata": {
        "id": "89fa96da",
        "outputId": "03770bf1-5aee-43e9-ede4-c464d9b49714"
      },
      "outputs": [
        {
          "name": "stdout",
          "output_type": "stream",
          "text": [
            "Fit score_R2:  0.9808650161995528\n",
            "Fit score_MAPE:  0.015614364208045831\n"
          ]
        }
      ],
      "source": [
        "larsMod = Lars(n_nonzero_coefs=grid_search.best_params_['n_nonzero_coefs']).fit(X, Y)\n",
        "y_aj = larsMod.predict(X)\n",
        "print('Fit score_R2: ', r2_score(Y, y_aj))\n",
        "print('Fit score_MAPE: ', mean_absolute_percentage_error(Y, y_aj))"
      ]
    },
    {
      "cell_type": "code",
      "execution_count": null,
      "id": "aa91811d",
      "metadata": {
        "id": "aa91811d",
        "outputId": "d88d922a-27f7-4949-fc89-6f523574377d"
      },
      "outputs": [
        {
          "data": {
            "image/png": "[encoded data removed]",
            "text/plain": [
              "<Figure size 576x288 with 1 Axes>"
            ]
          },
          "metadata": {
            "needs_background": "light"
          },
          "output_type": "display_data"
        }
      ],
      "source": [
        "fig, ax = plt.subplots(figsize=(8,4))\n",
        "plt.plot(datosAj['Año'], Y, label='Datos reales')\n",
        "plt.plot(datosAj['Año'], y_aj, label='Ajuste')\n",
        "plt.xlabel('Año')\n",
        "plt.ylabel('CE_Total')\n",
        "plt.title('Ajuste');\n",
        "ax.legend();\n",
        "plt.grid(True)"
      ]
    },
    {
      "cell_type": "markdown",
      "id": "312065a9",
      "metadata": {
        "id": "312065a9"
      },
      "source": [
        "# 4. Forecasting"
      ]
    },
    {
      "cell_type": "code",
      "execution_count": null,
      "id": "be42b8f6",
      "metadata": {
        "id": "be42b8f6"
      },
      "outputs": [],
      "source": [
        "from skforecast.ForecasterAutoreg import ForecasterAutoreg\n",
        "from openpyxl import load_workbook"
      ]
    },
    {
      "cell_type": "markdown",
      "id": "efe6ef43",
      "metadata": {
        "id": "efe6ef43"
      },
      "source": [
        "Año a pronosticar"
      ]
    },
    {
      "cell_type": "code",
      "execution_count": null,
      "id": "53860a80",
      "metadata": {
        "id": "53860a80",
        "outputId": "66b327c9-b04c-4e01-987b-115a8fb727d1"
      },
      "outputs": [
        {
          "name": "stdout",
          "output_type": "stream",
          "text": [
            "Años Ajuste: 2006-->2029, (n= 24)\n",
            "Año Pronóstico: 2030-->2030, (n= 1)\n"
          ]
        },
        {
          "data": {
            "text/html": [
              "<div>\n",
              "<style scoped>\n",
              "    .dataframe tbody tr th:only-of-type {\n",
              "        vertical-align: middle;\n",
              "    }\n",
              "\n",
              "    .dataframe tbody tr th {\n",
              "        vertical-align: top;\n",
              "    }\n",
              "\n",
              "    .dataframe thead th {\n",
              "        text-align: right;\n",
              "    }\n",
              "</style>\n",
              "<table border=\"1\" class=\"dataframe\">\n",
              "  <thead>\n",
              "    <tr style=\"text-align: right;\">\n",
              "      <th></th>\n",
              "      <th>Año</th>\n",
              "      <th>CE_Total</th>\n",
              "      <th>Pob_Total</th>\n",
              "      <th>T_PIB</th>\n",
              "    </tr>\n",
              "  </thead>\n",
              "  <tbody>\n",
              "    <tr>\n",
              "      <th>24</th>\n",
              "      <td>2030</td>\n",
              "      <td>NaN</td>\n",
              "      <td>55678083</td>\n",
              "      <td>368.157081</td>\n",
              "    </tr>\n",
              "  </tbody>\n",
              "</table>\n",
              "</div>"
            ],
            "text/plain": [
              "     Año  CE_Total  Pob_Total       T_PIB\n",
              "24  2030       NaN   55678083  368.157081"
            ]
          },
          "execution_count": 40,
          "metadata": {},
          "output_type": "execute_result"
        }
      ],
      "source": [
        "datos = pd.read_excel('/content/drive/MyDrive/GENERGETICA/PROYECTOS/Proyecto_INTEGRA2023_Meli/Colaboratory/Regresion_Proyecciones/datos.xlsx', sheet_name='Proyección 1')\n",
        "aPro = 2030\n",
        "\n",
        "dAj = datos[datos['Año']<aPro]\n",
        "dPro  = datos[datos['Año']==aPro]\n",
        "\n",
        "Y = dAj['CE_Total']\n",
        "X = dAj[['Pob_Total', 'T_PIB']]\n",
        "\n",
        "print(\"Años Ajuste: \"+str(dAj['Año'].min()) +\"-->\" +str(dAj['Año'].max())+ \", (n= \"+str(len(dAj))+\")\")\n",
        "print(\"Año Pronóstico: \"+str(dPro['Año'].min()) +\"-->\" +str(dPro['Año'].max())+ \", (n= \"+str(len(dPro))+\")\")\n",
        "dPro"
      ]
    },
    {
      "cell_type": "markdown",
      "id": "46fa0536",
      "metadata": {
        "id": "46fa0536"
      },
      "source": [
        "Recursive forecasting"
      ]
    },
    {
      "cell_type": "code",
      "execution_count": null,
      "id": "411f4d90",
      "metadata": {
        "id": "411f4d90",
        "outputId": "f8814172-ff9a-460f-e5fd-c608478a9e11"
      },
      "outputs": [
        {
          "data": {
            "text/plain": [
              "================= \n",
              "ForecasterAutoreg \n",
              "================= \n",
              "Regressor: Lasso(alpha=497.7023564332114) \n",
              "Lags: [1 2] \n",
              "Window size: 2 \n",
              "Included exogenous: True \n",
              "Type of exogenous variable: <class 'pandas.core.frame.DataFrame'> \n",
              "Exogenous variables names: ['Pob_Total', 'T_PIB'] \n",
              "Training range: [0, 23] \n",
              "Training index type: RangeIndex \n",
              "Training index frequency: 1 \n",
              "Regressor parameters: {'alpha': 497.7023564332114, 'copy_X': True, 'fit_intercept': True, 'max_iter': 1000, 'normalize': 'deprecated', 'positive': False, 'precompute': False, 'random_state': None, 'selection': 'cyclic', 'tol': 0.0001, 'warm_start': False} \n",
              "Creation date: 2022-09-09 17:03:53 \n",
              "Last fit date: 2022-09-09 17:03:53 \n",
              "Skforecast version: 0.4.3 "
            ]
          },
          "execution_count": 41,
          "metadata": {},
          "output_type": "execute_result"
        }
      ],
      "source": [
        "forecaster = ForecasterAutoreg(regressor=Lasso(alpha=497.7023564332114), lags=2)\n",
        "forecaster.fit(y=Y, exog=X)\n",
        "forecaster"
      ]
    },
    {
      "cell_type": "markdown",
      "id": "c92b8517",
      "metadata": {
        "id": "c92b8517"
      },
      "source": [
        "Pronóstico"
      ]
    },
    {
      "cell_type": "code",
      "execution_count": null,
      "id": "6e4a14f6",
      "metadata": {
        "id": "6e4a14f6",
        "outputId": "f1c8cb11-bf7a-4157-f240-8e3999475849"
      },
      "outputs": [
        {
          "name": "stdout",
          "output_type": "stream",
          "text": [
            "     Año      CE_Total  Pob_Total       T_PIB\n",
            "24  2030  75056.156043   55678083  368.157081\n"
          ]
        }
      ],
      "source": [
        "prono = forecaster.predict(steps=len(dPro), exog=dPro[['Pob_Total', 'T_PIB']])\n",
        "dPro['CE_Total'].fillna(value=prono, inplace=True)\n",
        "print(dPro)\n",
        "\n",
        "book = load_workbook('/content/drive/MyDrive/GENERGETICA/PROYECTOS/Proyecto_INTEGRA2023_Meli/Colaboratory/Regresion_Proyecciones/datos.xlsx')\n",
        "wbxlsx = pd.ExcelWriter('/content/drive/MyDrive/GENERGETICA/PROYECTOS/Proyecto_INTEGRA2023_Meli/Colaboratory/Regresion_Proyecciones/datos.xlsx', engine='openpyxl') \n",
        "wbxlsx.book = book\n",
        "wbxlsx.sheets = dict((ws.title, ws) for ws in book.worksheets)\n",
        "dPro.to_excel(wbxlsx, sheet_name='Proyección 1', startrow=dPro.index[dPro['Año']==aPro][0]+1, header=False, index=False)\n",
        "wbxlsx.save()"
      ]
    },
    {
      "cell_type": "markdown",
      "id": "0c89a3ca",
      "metadata": {
        "id": "0c89a3ca"
      },
      "source": [
        "# 5. Gráficas"
      ]
    },
    {
      "cell_type": "code",
      "execution_count": null,
      "id": "16f83779",
      "metadata": {
        "id": "16f83779",
        "outputId": "ecacbe8d-2f88-4ce0-ce70-41c1ad9da11e"
      },
      "outputs": [
        {
          "data": {
            "image/png": "[encoded data removed]",
            "text/plain": [
              "<Figure size 576x288 with 1 Axes>"
            ]
          },
          "metadata": {
            "needs_background": "light"
          },
          "output_type": "display_data"
        }
      ],
      "source": [
        "datos = pd.read_excel('/content/drive/MyDrive/GENERGETICA/PROYECTOS/Proyecto_INTEGRA2023_Meli/Colaboratory/Regresion_Proyecciones/datos.xlsx', sheet_name='Proyección 1')\n",
        "fig, ax = plt.subplots(figsize=(8,4))\n",
        "plt.plot(datosAj['Año'], datosAj['CE_Total'], label='Datos reales')\n",
        "plt.plot(datosAj['Año'], y_aj, label='Ajuste')\n",
        "plt.scatter(datos['Año'][datos['Año']>=2021], datos['CE_Total'][datos['Año']>=2021], color='red', label='pronóstico')\n",
        "plt.xlabel('Año')\n",
        "plt.ylabel('CE_Total')\n",
        "plt.title(\"Prónostico\");\n",
        "ax.legend();\n",
        "plt.grid(True)"
      ]
    }
  ],
  "metadata": {
    "kernelspec": {
      "display_name": "Python 3 (ipykernel)",
      "language": "python",
      "name": "python3"
    },
    "language_info": {
      "codemirror_mode": {
        "name": "ipython",
        "version": 3
      },
      "file_extension": ".py",
      "mimetype": "text/x-python",
      "name": "python",
      "nbconvert_exporter": "python",
      "pygments_lexer": "ipython3",
      "version": "3.9.7"
    },
    "colab": {
      "provenance": [],
      "collapsed_sections": [],
      "include_colab_link": true
    }
  },
  "nbformat": 4,
  "nbformat_minor": 5
}